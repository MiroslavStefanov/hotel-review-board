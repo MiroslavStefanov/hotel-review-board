{
 "cells": [
  {
   "cell_type": "code",
   "execution_count": 1,
   "metadata": {},
   "outputs": [],
   "source": [
    "import pandas as pd\n",
    "import numpy as np"
   ]
  },
  {
   "cell_type": "code",
   "execution_count": 2,
   "metadata": {},
   "outputs": [],
   "source": [
    "df = pd.read_csv(\"./Hotel_reviews_velingrad.csv\")"
   ]
  },
  {
   "cell_type": "code",
   "execution_count": 3,
   "metadata": {},
   "outputs": [],
   "source": [
    "df = df.replace(np.nan, '',regex=True)"
   ]
  },
  {
   "cell_type": "code",
   "execution_count": 4,
   "metadata": {},
   "outputs": [],
   "source": [
    "df = df.drop('Unnamed: 0', axis=1)"
   ]
  },
  {
   "cell_type": "code",
   "execution_count": 5,
   "metadata": {},
   "outputs": [
    {
     "data": {
      "text/plain": [
       "16739"
      ]
     },
     "execution_count": 5,
     "metadata": {},
     "output_type": "execute_result"
    }
   ],
   "source": [
    "len(df)"
   ]
  },
  {
   "cell_type": "code",
   "execution_count": 6,
   "metadata": {},
   "outputs": [
    {
     "data": {
      "text/html": [
       "<div>\n",
       "<style scoped>\n",
       "    .dataframe tbody tr th:only-of-type {\n",
       "        vertical-align: middle;\n",
       "    }\n",
       "\n",
       "    .dataframe tbody tr th {\n",
       "        vertical-align: top;\n",
       "    }\n",
       "\n",
       "    .dataframe thead th {\n",
       "        text-align: right;\n",
       "    }\n",
       "</style>\n",
       "<table border=\"1\" class=\"dataframe\">\n",
       "  <thead>\n",
       "    <tr style=\"text-align: right;\">\n",
       "      <th></th>\n",
       "      <th>Liked</th>\n",
       "      <th>Disliked</th>\n",
       "      <th>Score</th>\n",
       "      <th>Hotel</th>\n",
       "    </tr>\n",
       "  </thead>\n",
       "  <tbody>\n",
       "    <tr>\n",
       "      <td>0</td>\n",
       "      <td>The hotel offers the perfect combination of ex...</td>\n",
       "      <td>We liked everything.\\n</td>\n",
       "      <td>10.0</td>\n",
       "      <td>Hotel Arte SPA &amp; Park</td>\n",
       "    </tr>\n",
       "    <tr>\n",
       "      <td>1</td>\n",
       "      <td>The hotel looks amazing, very nicely decorated...</td>\n",
       "      <td>I guess the only slight remark was that the be...</td>\n",
       "      <td>10.0</td>\n",
       "      <td>Hotel Arte SPA &amp; Park</td>\n",
       "    </tr>\n",
       "    <tr>\n",
       "      <td>2</td>\n",
       "      <td>Swimming in a hot pool under snow fall was an ...</td>\n",
       "      <td>I would expect the hotel to promote more perso...</td>\n",
       "      <td>9.0</td>\n",
       "      <td>Hotel Arte SPA &amp; Park</td>\n",
       "    </tr>\n",
       "    <tr>\n",
       "      <td>3</td>\n",
       "      <td>Hotel is very well maintained and it looks lik...</td>\n",
       "      <td>One thing that I did not like in particular wa...</td>\n",
       "      <td>9.0</td>\n",
       "      <td>Hotel Arte SPA &amp; Park</td>\n",
       "    </tr>\n",
       "    <tr>\n",
       "      <td>4</td>\n",
       "      <td>we have a good time at the property. the food ...</td>\n",
       "      <td>in the spa zone not enough space and you can’t...</td>\n",
       "      <td>10.0</td>\n",
       "      <td>Hotel Arte SPA &amp; Park</td>\n",
       "    </tr>\n",
       "    <tr>\n",
       "      <td>...</td>\n",
       "      <td>...</td>\n",
       "      <td>...</td>\n",
       "      <td>...</td>\n",
       "      <td>...</td>\n",
       "    </tr>\n",
       "    <tr>\n",
       "      <td>16734</td>\n",
       "      <td></td>\n",
       "      <td>\\nThere are no comments available for this rev...</td>\n",
       "      <td>10.0</td>\n",
       "      <td>Grande - Velingrad</td>\n",
       "    </tr>\n",
       "    <tr>\n",
       "      <td>16735</td>\n",
       "      <td></td>\n",
       "      <td>\\nThere are no comments available for this rev...</td>\n",
       "      <td>10.0</td>\n",
       "      <td>Grande - Velingrad</td>\n",
       "    </tr>\n",
       "    <tr>\n",
       "      <td>16736</td>\n",
       "      <td>We're very pleased with the apartment, great v...</td>\n",
       "      <td></td>\n",
       "      <td>10.0</td>\n",
       "      <td>Nikol 2 Deluxe</td>\n",
       "    </tr>\n",
       "    <tr>\n",
       "      <td>16737</td>\n",
       "      <td>Great apartment, clean and fully furnished (mo...</td>\n",
       "      <td></td>\n",
       "      <td>10.0</td>\n",
       "      <td>Nikol 2 Deluxe</td>\n",
       "    </tr>\n",
       "    <tr>\n",
       "      <td>16738</td>\n",
       "      <td>Cozy and beautiful</td>\n",
       "      <td></td>\n",
       "      <td>10.0</td>\n",
       "      <td>Nikol 2 Deluxe</td>\n",
       "    </tr>\n",
       "  </tbody>\n",
       "</table>\n",
       "<p>16739 rows × 4 columns</p>\n",
       "</div>"
      ],
      "text/plain": [
       "                                                   Liked  \\\n",
       "0      The hotel offers the perfect combination of ex...   \n",
       "1      The hotel looks amazing, very nicely decorated...   \n",
       "2      Swimming in a hot pool under snow fall was an ...   \n",
       "3      Hotel is very well maintained and it looks lik...   \n",
       "4      we have a good time at the property. the food ...   \n",
       "...                                                  ...   \n",
       "16734                                                      \n",
       "16735                                                      \n",
       "16736  We're very pleased with the apartment, great v...   \n",
       "16737  Great apartment, clean and fully furnished (mo...   \n",
       "16738                                 Cozy and beautiful   \n",
       "\n",
       "                                                Disliked  Score  \\\n",
       "0                                 We liked everything.\\n   10.0   \n",
       "1      I guess the only slight remark was that the be...   10.0   \n",
       "2      I would expect the hotel to promote more perso...    9.0   \n",
       "3      One thing that I did not like in particular wa...    9.0   \n",
       "4      in the spa zone not enough space and you can’t...   10.0   \n",
       "...                                                  ...    ...   \n",
       "16734  \\nThere are no comments available for this rev...   10.0   \n",
       "16735  \\nThere are no comments available for this rev...   10.0   \n",
       "16736                                                      10.0   \n",
       "16737                                                      10.0   \n",
       "16738                                                      10.0   \n",
       "\n",
       "                       Hotel  \n",
       "0      Hotel Arte SPA & Park  \n",
       "1      Hotel Arte SPA & Park  \n",
       "2      Hotel Arte SPA & Park  \n",
       "3      Hotel Arte SPA & Park  \n",
       "4      Hotel Arte SPA & Park  \n",
       "...                      ...  \n",
       "16734     Grande - Velingrad  \n",
       "16735     Grande - Velingrad  \n",
       "16736         Nikol 2 Deluxe  \n",
       "16737         Nikol 2 Deluxe  \n",
       "16738         Nikol 2 Deluxe  \n",
       "\n",
       "[16739 rows x 4 columns]"
      ]
     },
     "execution_count": 6,
     "metadata": {},
     "output_type": "execute_result"
    }
   ],
   "source": [
    "df"
   ]
  },
  {
   "cell_type": "code",
   "execution_count": 21,
   "metadata": {},
   "outputs": [],
   "source": [
    "def format_text(text):\n",
    "    if type(text) == type(1.0):\n",
    "        return ''\n",
    "    text = text.replace('\\n', '.')\n",
    "    if text[1:35] == 'comments available for this review':\n",
    "        return ''\n",
    "    if text == '.There are no comments available for this review.':\n",
    "        return ''\n",
    "    return text"
   ]
  },
  {
   "cell_type": "code",
   "execution_count": 5,
   "metadata": {},
   "outputs": [],
   "source": [
    "df = df.drop('Unnamed: 0', axis=1)"
   ]
  },
  {
   "cell_type": "code",
   "execution_count": 19,
   "metadata": {},
   "outputs": [
    {
     "data": {
      "text/html": [
       "<div>\n",
       "<style scoped>\n",
       "    .dataframe tbody tr th:only-of-type {\n",
       "        vertical-align: middle;\n",
       "    }\n",
       "\n",
       "    .dataframe tbody tr th {\n",
       "        vertical-align: top;\n",
       "    }\n",
       "\n",
       "    .dataframe thead th {\n",
       "        text-align: right;\n",
       "    }\n",
       "</style>\n",
       "<table border=\"1\" class=\"dataframe\">\n",
       "  <thead>\n",
       "    <tr style=\"text-align: right;\">\n",
       "      <th></th>\n",
       "      <th>Hotel</th>\n",
       "      <th>Liked</th>\n",
       "      <th>Disliked</th>\n",
       "      <th>Score</th>\n",
       "    </tr>\n",
       "  </thead>\n",
       "  <tbody>\n",
       "    <tr>\n",
       "      <td>0</td>\n",
       "      <td>Hotel Jägerhof</td>\n",
       "      <td>Super price/quality  ratio.</td>\n",
       "      <td></td>\n",
       "      <td>10.0</td>\n",
       "    </tr>\n",
       "    <tr>\n",
       "      <td>1</td>\n",
       "      <td>Hotel Jägerhof</td>\n",
       "      <td>Clean and comfortable.</td>\n",
       "      <td></td>\n",
       "      <td>9.0</td>\n",
       "    </tr>\n",
       "    <tr>\n",
       "      <td>2</td>\n",
       "      <td>Hotel Jägerhof</td>\n",
       "      <td>very clean and new.</td>\n",
       "      <td></td>\n",
       "      <td>10.0</td>\n",
       "    </tr>\n",
       "    <tr>\n",
       "      <td>3</td>\n",
       "      <td>Hotel Jägerhof</td>\n",
       "      <td>We loved everything! the rooms are designed wi...</td>\n",
       "      <td></td>\n",
       "      <td>10.0</td>\n",
       "    </tr>\n",
       "    <tr>\n",
       "      <td>4</td>\n",
       "      <td>Hotel Jägerhof</td>\n",
       "      <td>By far the best hotel I've stayed in Plovdiv a...</td>\n",
       "      <td>Really nothing. Just one small remark - croiss...</td>\n",
       "      <td>10.0</td>\n",
       "    </tr>\n",
       "    <tr>\n",
       "      <td>...</td>\n",
       "      <td>...</td>\n",
       "      <td>...</td>\n",
       "      <td>...</td>\n",
       "      <td>...</td>\n",
       "    </tr>\n",
       "    <tr>\n",
       "      <td>21515</td>\n",
       "      <td>Business Hotel Plovdiv</td>\n",
       "      <td></td>\n",
       "      <td></td>\n",
       "      <td>9.0</td>\n",
       "    </tr>\n",
       "    <tr>\n",
       "      <td>21516</td>\n",
       "      <td>Business Hotel Plovdiv</td>\n",
       "      <td></td>\n",
       "      <td></td>\n",
       "      <td>9.0</td>\n",
       "    </tr>\n",
       "    <tr>\n",
       "      <td>21517</td>\n",
       "      <td>Business Hotel Plovdiv</td>\n",
       "      <td></td>\n",
       "      <td></td>\n",
       "      <td>10.0</td>\n",
       "    </tr>\n",
       "    <tr>\n",
       "      <td>21518</td>\n",
       "      <td>Business Hotel Plovdiv</td>\n",
       "      <td></td>\n",
       "      <td></td>\n",
       "      <td>8.0</td>\n",
       "    </tr>\n",
       "    <tr>\n",
       "      <td>21519</td>\n",
       "      <td>Business Hotel Plovdiv</td>\n",
       "      <td></td>\n",
       "      <td></td>\n",
       "      <td>10.0</td>\n",
       "    </tr>\n",
       "  </tbody>\n",
       "</table>\n",
       "<p>21520 rows × 4 columns</p>\n",
       "</div>"
      ],
      "text/plain": [
       "                        Hotel  \\\n",
       "0              Hotel Jägerhof   \n",
       "1              Hotel Jägerhof   \n",
       "2              Hotel Jägerhof   \n",
       "3              Hotel Jägerhof   \n",
       "4              Hotel Jägerhof   \n",
       "...                       ...   \n",
       "21515  Business Hotel Plovdiv   \n",
       "21516  Business Hotel Plovdiv   \n",
       "21517  Business Hotel Plovdiv   \n",
       "21518  Business Hotel Plovdiv   \n",
       "21519  Business Hotel Plovdiv   \n",
       "\n",
       "                                                   Liked  \\\n",
       "0                            Super price/quality  ratio.   \n",
       "1                                 Clean and comfortable.   \n",
       "2                                    very clean and new.   \n",
       "3      We loved everything! the rooms are designed wi...   \n",
       "4      By far the best hotel I've stayed in Plovdiv a...   \n",
       "...                                                  ...   \n",
       "21515                                                      \n",
       "21516                                                      \n",
       "21517                                                      \n",
       "21518                                                      \n",
       "21519                                                      \n",
       "\n",
       "                                                Disliked  Score  \n",
       "0                                                          10.0  \n",
       "1                                                           9.0  \n",
       "2                                                          10.0  \n",
       "3                                                          10.0  \n",
       "4      Really nothing. Just one small remark - croiss...   10.0  \n",
       "...                                                  ...    ...  \n",
       "21515                                                       9.0  \n",
       "21516                                                       9.0  \n",
       "21517                                                      10.0  \n",
       "21518                                                       8.0  \n",
       "21519                                                      10.0  \n",
       "\n",
       "[21520 rows x 4 columns]"
      ]
     },
     "execution_count": 19,
     "metadata": {},
     "output_type": "execute_result"
    }
   ],
   "source": [
    "df"
   ]
  },
  {
   "cell_type": "code",
   "execution_count": 8,
   "metadata": {},
   "outputs": [],
   "source": [
    "df['Liked'] = df['Liked'].apply(format_text)\n",
    "df['Disliked'] = df['Disliked'].apply(format_text)"
   ]
  },
  {
   "cell_type": "code",
   "execution_count": 9,
   "metadata": {},
   "outputs": [],
   "source": [
    "df_filtered = df[df[\"Liked\"] + df[\"Disliked\"] != '']"
   ]
  },
  {
   "cell_type": "code",
   "execution_count": 18,
   "metadata": {},
   "outputs": [
    {
     "name": "stderr",
     "output_type": "stream",
     "text": [
      "C:\\Users\\super\\Anaconda3\\lib\\site-packages\\ipykernel_launcher.py:1: SettingWithCopyWarning: \n",
      "A value is trying to be set on a copy of a slice from a DataFrame.\n",
      "Try using .loc[row_indexer,col_indexer] = value instead\n",
      "\n",
      "See the caveats in the documentation: http://pandas.pydata.org/pandas-docs/stable/user_guide/indexing.html#returning-a-view-versus-a-copy\n",
      "  \"\"\"Entry point for launching an IPython kernel.\n"
     ]
    }
   ],
   "source": [
    "df_filtered['Combined comment'] = df_filtered['Liked'] + ' '+ df_filtered['Disliked']"
   ]
  },
  {
   "cell_type": "code",
   "execution_count": 19,
   "metadata": {},
   "outputs": [
    {
     "data": {
      "text/html": [
       "<div>\n",
       "<style scoped>\n",
       "    .dataframe tbody tr th:only-of-type {\n",
       "        vertical-align: middle;\n",
       "    }\n",
       "\n",
       "    .dataframe tbody tr th {\n",
       "        vertical-align: top;\n",
       "    }\n",
       "\n",
       "    .dataframe thead th {\n",
       "        text-align: right;\n",
       "    }\n",
       "</style>\n",
       "<table border=\"1\" class=\"dataframe\">\n",
       "  <thead>\n",
       "    <tr style=\"text-align: right;\">\n",
       "      <th></th>\n",
       "      <th>Liked</th>\n",
       "      <th>Disliked</th>\n",
       "      <th>Score</th>\n",
       "      <th>Hotel</th>\n",
       "      <th>Combined comment</th>\n",
       "    </tr>\n",
       "  </thead>\n",
       "  <tbody>\n",
       "    <tr>\n",
       "      <td>0</td>\n",
       "      <td>The hotel offers the perfect combination of ex...</td>\n",
       "      <td>We liked everything..</td>\n",
       "      <td>10.0</td>\n",
       "      <td>Hotel Arte SPA &amp; Park</td>\n",
       "      <td>The hotel offers the perfect combination of ex...</td>\n",
       "    </tr>\n",
       "    <tr>\n",
       "      <td>1</td>\n",
       "      <td>The hotel looks amazing, very nicely decorated...</td>\n",
       "      <td>I guess the only slight remark was that the be...</td>\n",
       "      <td>10.0</td>\n",
       "      <td>Hotel Arte SPA &amp; Park</td>\n",
       "      <td>The hotel looks amazing, very nicely decorated...</td>\n",
       "    </tr>\n",
       "    <tr>\n",
       "      <td>2</td>\n",
       "      <td>Swimming in a hot pool under snow fall was an ...</td>\n",
       "      <td>I would expect the hotel to promote more perso...</td>\n",
       "      <td>9.0</td>\n",
       "      <td>Hotel Arte SPA &amp; Park</td>\n",
       "      <td>Swimming in a hot pool under snow fall was an ...</td>\n",
       "    </tr>\n",
       "    <tr>\n",
       "      <td>3</td>\n",
       "      <td>Hotel is very well maintained and it looks lik...</td>\n",
       "      <td>One thing that I did not like in particular wa...</td>\n",
       "      <td>9.0</td>\n",
       "      <td>Hotel Arte SPA &amp; Park</td>\n",
       "      <td>Hotel is very well maintained and it looks lik...</td>\n",
       "    </tr>\n",
       "    <tr>\n",
       "      <td>4</td>\n",
       "      <td>we have a good time at the property. the food ...</td>\n",
       "      <td>in the spa zone not enough space and you can’t...</td>\n",
       "      <td>10.0</td>\n",
       "      <td>Hotel Arte SPA &amp; Park</td>\n",
       "      <td>we have a good time at the property. the food ...</td>\n",
       "    </tr>\n",
       "    <tr>\n",
       "      <td>...</td>\n",
       "      <td>...</td>\n",
       "      <td>...</td>\n",
       "      <td>...</td>\n",
       "      <td>...</td>\n",
       "      <td>...</td>\n",
       "    </tr>\n",
       "    <tr>\n",
       "      <td>16732</td>\n",
       "      <td>Everything was very nice, clean, comfortable. ...</td>\n",
       "      <td>I have no objections.</td>\n",
       "      <td>10.0</td>\n",
       "      <td>Grande - Velingrad</td>\n",
       "      <td>Everything was very nice, clean, comfortable. ...</td>\n",
       "    </tr>\n",
       "    <tr>\n",
       "      <td>16733</td>\n",
       "      <td>The apartment is located in the center of Veli...</td>\n",
       "      <td>Everything was more than perfect!</td>\n",
       "      <td>10.0</td>\n",
       "      <td>Grande - Velingrad</td>\n",
       "      <td>The apartment is located in the center of Veli...</td>\n",
       "    </tr>\n",
       "    <tr>\n",
       "      <td>16736</td>\n",
       "      <td>We're very pleased with the apartment, great v...</td>\n",
       "      <td></td>\n",
       "      <td>10.0</td>\n",
       "      <td>Nikol 2 Deluxe</td>\n",
       "      <td>We're very pleased with the apartment, great v...</td>\n",
       "    </tr>\n",
       "    <tr>\n",
       "      <td>16737</td>\n",
       "      <td>Great apartment, clean and fully furnished (mo...</td>\n",
       "      <td></td>\n",
       "      <td>10.0</td>\n",
       "      <td>Nikol 2 Deluxe</td>\n",
       "      <td>Great apartment, clean and fully furnished (mo...</td>\n",
       "    </tr>\n",
       "    <tr>\n",
       "      <td>16738</td>\n",
       "      <td>Cozy and beautiful</td>\n",
       "      <td></td>\n",
       "      <td>10.0</td>\n",
       "      <td>Nikol 2 Deluxe</td>\n",
       "      <td>Cozy and beautiful</td>\n",
       "    </tr>\n",
       "  </tbody>\n",
       "</table>\n",
       "<p>10695 rows × 5 columns</p>\n",
       "</div>"
      ],
      "text/plain": [
       "                                                   Liked  \\\n",
       "0      The hotel offers the perfect combination of ex...   \n",
       "1      The hotel looks amazing, very nicely decorated...   \n",
       "2      Swimming in a hot pool under snow fall was an ...   \n",
       "3      Hotel is very well maintained and it looks lik...   \n",
       "4      we have a good time at the property. the food ...   \n",
       "...                                                  ...   \n",
       "16732  Everything was very nice, clean, comfortable. ...   \n",
       "16733  The apartment is located in the center of Veli...   \n",
       "16736  We're very pleased with the apartment, great v...   \n",
       "16737  Great apartment, clean and fully furnished (mo...   \n",
       "16738                                 Cozy and beautiful   \n",
       "\n",
       "                                                Disliked  Score  \\\n",
       "0                                  We liked everything..   10.0   \n",
       "1      I guess the only slight remark was that the be...   10.0   \n",
       "2      I would expect the hotel to promote more perso...    9.0   \n",
       "3      One thing that I did not like in particular wa...    9.0   \n",
       "4      in the spa zone not enough space and you can’t...   10.0   \n",
       "...                                                  ...    ...   \n",
       "16732                              I have no objections.   10.0   \n",
       "16733                  Everything was more than perfect!   10.0   \n",
       "16736                                                      10.0   \n",
       "16737                                                      10.0   \n",
       "16738                                                      10.0   \n",
       "\n",
       "                       Hotel  \\\n",
       "0      Hotel Arte SPA & Park   \n",
       "1      Hotel Arte SPA & Park   \n",
       "2      Hotel Arte SPA & Park   \n",
       "3      Hotel Arte SPA & Park   \n",
       "4      Hotel Arte SPA & Park   \n",
       "...                      ...   \n",
       "16732     Grande - Velingrad   \n",
       "16733     Grande - Velingrad   \n",
       "16736         Nikol 2 Deluxe   \n",
       "16737         Nikol 2 Deluxe   \n",
       "16738         Nikol 2 Deluxe   \n",
       "\n",
       "                                        Combined comment  \n",
       "0      The hotel offers the perfect combination of ex...  \n",
       "1      The hotel looks amazing, very nicely decorated...  \n",
       "2      Swimming in a hot pool under snow fall was an ...  \n",
       "3      Hotel is very well maintained and it looks lik...  \n",
       "4      we have a good time at the property. the food ...  \n",
       "...                                                  ...  \n",
       "16732  Everything was very nice, clean, comfortable. ...  \n",
       "16733  The apartment is located in the center of Veli...  \n",
       "16736  We're very pleased with the apartment, great v...  \n",
       "16737  Great apartment, clean and fully furnished (mo...  \n",
       "16738                                Cozy and beautiful   \n",
       "\n",
       "[10695 rows x 5 columns]"
      ]
     },
     "execution_count": 19,
     "metadata": {},
     "output_type": "execute_result"
    }
   ],
   "source": [
    "df_filtered"
   ]
  },
  {
   "cell_type": "code",
   "execution_count": 20,
   "metadata": {},
   "outputs": [
    {
     "name": "stderr",
     "output_type": "stream",
     "text": [
      "C:\\Users\\super\\Anaconda3\\lib\\site-packages\\ipykernel_launcher.py:1: SettingWithCopyWarning: \n",
      "A value is trying to be set on a copy of a slice from a DataFrame.\n",
      "Try using .loc[row_indexer,col_indexer] = value instead\n",
      "\n",
      "See the caveats in the documentation: http://pandas.pydata.org/pandas-docs/stable/user_guide/indexing.html#returning-a-view-versus-a-copy\n",
      "  \"\"\"Entry point for launching an IPython kernel.\n"
     ]
    }
   ],
   "source": [
    "df_filtered['Score'] = np.floor(df_filtered['Score'])"
   ]
  },
  {
   "cell_type": "code",
   "execution_count": 22,
   "metadata": {},
   "outputs": [
    {
     "data": {
      "text/plain": [
       "10.0    3887\n",
       "9.0     2123\n",
       "8.0     1771\n",
       "7.0     1139\n",
       "6.0      558\n",
       "5.0      549\n",
       "4.0      268\n",
       "3.0      157\n",
       "1.0      155\n",
       "2.0       88\n",
       "Name: Score, dtype: int64"
      ]
     },
     "execution_count": 22,
     "metadata": {},
     "output_type": "execute_result"
    }
   ],
   "source": [
    "df_filtered['Score'].value_counts()"
   ]
  },
  {
   "cell_type": "code",
   "execution_count": 88,
   "metadata": {},
   "outputs": [],
   "source": [
    "from tensorflow.keras.utils import to_categorical"
   ]
  },
  {
   "cell_type": "code",
   "execution_count": 90,
   "metadata": {},
   "outputs": [
    {
     "data": {
      "text/plain": [
       "array([[0., 0., 0., ..., 0., 0., 0.],\n",
       "       [0., 0., 0., ..., 0., 0., 0.],\n",
       "       [0., 0., 0., ..., 0., 0., 0.],\n",
       "       ...,\n",
       "       [0., 0., 0., ..., 0., 0., 0.],\n",
       "       [0., 0., 0., ..., 0., 1., 0.],\n",
       "       [0., 0., 0., ..., 0., 0., 0.]], dtype=float32)"
      ]
     },
     "execution_count": 90,
     "metadata": {},
     "output_type": "execute_result"
    }
   ],
   "source": [
    "to_categorical(df['Score'])"
   ]
  },
  {
   "cell_type": "code",
   "execution_count": 30,
   "metadata": {},
   "outputs": [],
   "source": [
    "df_filtered.to_csv(\"filtered_hotel_reviews_Plovdiv.csv\",index=False)"
   ]
  },
  {
   "cell_type": "code",
   "execution_count": 2,
   "metadata": {},
   "outputs": [
    {
     "name": "stdout",
     "output_type": "stream",
     "text": [
      " Volume in drive C has no label.\n",
      " Volume Serial Number is CE36-429D\n",
      "\n",
      " Directory of C:\\Users\\super\\Python\\ML and IoT\\Scraping booking project\n",
      "\n",
      "02/13/2022  12:35 AM    <DIR>          .\n",
      "02/13/2022  12:35 AM    <DIR>          ..\n",
      "02/12/2022  10:21 PM    <DIR>          .ipynb_checkpoints\n",
      "02/13/2022  12:35 AM            24,382 analyzing data.ipynb\n",
      "02/10/2022  10:08 AM           678,962 companies_korean.txt\n",
      "02/10/2022  02:21 AM             2,732 demofile3.txt\n",
      "02/13/2022  12:01 AM           554,107 filtered_hotel_reviews.csv\n",
      "02/12/2022  06:59 PM           658,565 Hotel_reviews.csv\n",
      "02/12/2022  06:59 PM            51,328 scraping booking site.ipynb\n",
      "02/10/2022  10:08 AM           253,873 testing korean pages.ipynb\n",
      "               7 File(s)      2,223,949 bytes\n",
      "               3 Dir(s)  47,094,497,280 bytes free\n"
     ]
    }
   ],
   "source": [
    "ls"
   ]
  },
  {
   "cell_type": "code",
   "execution_count": 21,
   "metadata": {},
   "outputs": [],
   "source": [
    "df = pd.read_csv(\"./filtered_hotel_reviews.csv\",)"
   ]
  },
  {
   "cell_type": "code",
   "execution_count": 11,
   "metadata": {},
   "outputs": [],
   "source": [
    "df['Score'] = round(df['Score'])"
   ]
  },
  {
   "cell_type": "code",
   "execution_count": 38,
   "metadata": {},
   "outputs": [],
   "source": [
    "df = df_filtered"
   ]
  },
  {
   "cell_type": "code",
   "execution_count": 39,
   "metadata": {},
   "outputs": [
    {
     "data": {
      "text/plain": [
       "10.0    6527\n",
       "9.0     2631\n",
       "8.0     1829\n",
       "7.0      785\n",
       "6.0      369\n",
       "5.0      295\n",
       "4.0      159\n",
       "3.0       83\n",
       "1.0       70\n",
       "2.0       44\n",
       "Name: Score, dtype: int64"
      ]
     },
     "execution_count": 39,
     "metadata": {},
     "output_type": "execute_result"
    }
   ],
   "source": [
    "df.Score.value_counts()\n"
   ]
  },
  {
   "cell_type": "code",
   "execution_count": 84,
   "metadata": {},
   "outputs": [],
   "source": [
    "from wordcloud import WordCloud, STOPWORDS\n",
    "import matplotlib.pyplot as plt\n",
    "stopwords = set(STOPWORDS)\n",
    "\n",
    "def show_wordcloud(data, title = None):\n",
    "    wordcloud = WordCloud(\n",
    "        background_color='black',\n",
    "        stopwords=stopwords,\n",
    "        max_words=200,\n",
    "        max_font_size=40, \n",
    "        scale=3,\n",
    "        random_state=1 # chosen at random by flipping a coin; it was heads\n",
    ").generate(str(data))\n",
    "\n",
    "    fig = plt.figure(1, figsize=(15, 15))\n",
    "    plt.axis('off')\n",
    "    if title: \n",
    "        fig.suptitle(title, fontsize=20)\n",
    "        fig.subplots_adjust(top=2.3)\n",
    "\n",
    "    plt.imshow(wordcloud)\n",
    "    plt.show()"
   ]
  },
  {
   "cell_type": "code",
   "execution_count": 87,
   "metadata": {},
   "outputs": [
    {
     "data": {
      "image/png": "[encoded data removed]",
      "text/plain": [
       "<Figure size 1080x1080 with 1 Axes>"
      ]
     },
     "metadata": {
      "needs_background": "light"
     },
     "output_type": "display_data"
    }
   ],
   "source": [
    "show_wordcloud(df['Combined comment'],'Most Common Words from the whole corpus')\n"
   ]
  },
  {
   "cell_type": "code",
   "execution_count": 52,
   "metadata": {},
   "outputs": [
    {
     "data": {
      "image/png": "[encoded data removed]",
      "text/plain": [
       "<Figure size 1080x1080 with 1 Axes>"
      ]
     },
     "metadata": {
      "needs_background": "light"
     },
     "output_type": "display_data"
    }
   ],
   "source": [
    "show_wordcloud(df['Liked'],'Most Common Words from the whole corpus')\n"
   ]
  },
  {
   "cell_type": "code",
   "execution_count": 48,
   "metadata": {},
   "outputs": [],
   "source": [
    "for i in range(1958):\n",
    "    if 'dtype' in df['Disliked'][i]:\n",
    "        print(df['Disliked'][i])"
   ]
  },
  {
   "cell_type": "code",
   "execution_count": 44,
   "metadata": {},
   "outputs": [],
   "source": [
    "df = df.replace(np.nan, '',regex=True)"
   ]
  },
  {
   "cell_type": "code",
   "execution_count": 61,
   "metadata": {},
   "outputs": [
    {
     "name": "stderr",
     "output_type": "stream",
     "text": [
      "C:\\Users\\super\\Anaconda3\\lib\\site-packages\\ipykernel_launcher.py:2: SettingWithCopyWarning: \n",
      "A value is trying to be set on a copy of a slice from a DataFrame.\n",
      "Try using .loc[row_indexer,col_indexer] = value instead\n",
      "\n",
      "See the caveats in the documentation: http://pandas.pydata.org/pandas-docs/stable/user_guide/indexing.html#returning-a-view-versus-a-copy\n",
      "  \n"
     ]
    },
    {
     "data": {
      "text/html": [
       "<div>\n",
       "<style scoped>\n",
       "    .dataframe tbody tr th:only-of-type {\n",
       "        vertical-align: middle;\n",
       "    }\n",
       "\n",
       "    .dataframe tbody tr th {\n",
       "        vertical-align: top;\n",
       "    }\n",
       "\n",
       "    .dataframe thead th {\n",
       "        text-align: right;\n",
       "    }\n",
       "</style>\n",
       "<table border=\"1\" class=\"dataframe\">\n",
       "  <thead>\n",
       "    <tr style=\"text-align: right;\">\n",
       "      <th></th>\n",
       "      <th>Hotel</th>\n",
       "      <th>Liked</th>\n",
       "      <th>Disliked</th>\n",
       "      <th>Score</th>\n",
       "      <th>Combined comment</th>\n",
       "    </tr>\n",
       "  </thead>\n",
       "  <tbody>\n",
       "    <tr>\n",
       "      <td>0</td>\n",
       "      <td>Hotel Jägerhof</td>\n",
       "      <td>Super price/quality  ratio.</td>\n",
       "      <td></td>\n",
       "      <td>4.0</td>\n",
       "      <td>Super price/quality  ratio.</td>\n",
       "    </tr>\n",
       "    <tr>\n",
       "      <td>1</td>\n",
       "      <td>Hotel Jägerhof</td>\n",
       "      <td>Clean and comfortable.</td>\n",
       "      <td></td>\n",
       "      <td>3.0</td>\n",
       "      <td>Clean and comfortable.</td>\n",
       "    </tr>\n",
       "    <tr>\n",
       "      <td>2</td>\n",
       "      <td>Hotel Jägerhof</td>\n",
       "      <td>very clean and new.</td>\n",
       "      <td></td>\n",
       "      <td>4.0</td>\n",
       "      <td>very clean and new.</td>\n",
       "    </tr>\n",
       "    <tr>\n",
       "      <td>3</td>\n",
       "      <td>Hotel Jägerhof</td>\n",
       "      <td>We loved everything! the rooms are designed wi...</td>\n",
       "      <td></td>\n",
       "      <td>4.0</td>\n",
       "      <td>We loved everything! the rooms are designed wi...</td>\n",
       "    </tr>\n",
       "    <tr>\n",
       "      <td>4</td>\n",
       "      <td>Hotel Jägerhof</td>\n",
       "      <td>By far the best hotel I've stayed in Plovdiv a...</td>\n",
       "      <td>Really nothing. Just one small remark - croiss...</td>\n",
       "      <td>4.0</td>\n",
       "      <td>By far the best hotel I've stayed in Plovdiv a...</td>\n",
       "    </tr>\n",
       "    <tr>\n",
       "      <td>...</td>\n",
       "      <td>...</td>\n",
       "      <td>...</td>\n",
       "      <td>...</td>\n",
       "      <td>...</td>\n",
       "      <td>...</td>\n",
       "    </tr>\n",
       "    <tr>\n",
       "      <td>21195</td>\n",
       "      <td>Business Hotel Plovdiv</td>\n",
       "      <td>They were super friendly. Everything was perfect.</td>\n",
       "      <td>They can diversify an idea of breakfast</td>\n",
       "      <td>4.0</td>\n",
       "      <td>They were super friendly. Everything was perfe...</td>\n",
       "    </tr>\n",
       "    <tr>\n",
       "      <td>21196</td>\n",
       "      <td>Business Hotel Plovdiv</td>\n",
       "      <td>A very helpful staff. Extremely kind.</td>\n",
       "      <td></td>\n",
       "      <td>4.0</td>\n",
       "      <td>A very helpful staff. Extremely kind.</td>\n",
       "    </tr>\n",
       "    <tr>\n",
       "      <td>21198</td>\n",
       "      <td>Business Hotel Plovdiv</td>\n",
       "      <td></td>\n",
       "      <td>Bathroom with bathtub.</td>\n",
       "      <td>1.0</td>\n",
       "      <td>Bathroom with bathtub.</td>\n",
       "    </tr>\n",
       "    <tr>\n",
       "      <td>21199</td>\n",
       "      <td>Business Hotel Plovdiv</td>\n",
       "      <td>The friendliness of the staff, the size of the...</td>\n",
       "      <td>The hotel is a 10-minute walk from the center ...</td>\n",
       "      <td>2.0</td>\n",
       "      <td>The friendliness of the staff, the size of the...</td>\n",
       "    </tr>\n",
       "    <tr>\n",
       "      <td>21200</td>\n",
       "      <td>Business Hotel Plovdiv</td>\n",
       "      <td>Very good hotel with attentive staff. Very con...</td>\n",
       "      <td>The location is not so close to the city cente...</td>\n",
       "      <td>2.0</td>\n",
       "      <td>Very good hotel with attentive staff. Very con...</td>\n",
       "    </tr>\n",
       "  </tbody>\n",
       "</table>\n",
       "<p>11772 rows × 5 columns</p>\n",
       "</div>"
      ],
      "text/plain": [
       "                        Hotel  \\\n",
       "0              Hotel Jägerhof   \n",
       "1              Hotel Jägerhof   \n",
       "2              Hotel Jägerhof   \n",
       "3              Hotel Jägerhof   \n",
       "4              Hotel Jägerhof   \n",
       "...                       ...   \n",
       "21195  Business Hotel Plovdiv   \n",
       "21196  Business Hotel Plovdiv   \n",
       "21198  Business Hotel Plovdiv   \n",
       "21199  Business Hotel Plovdiv   \n",
       "21200  Business Hotel Plovdiv   \n",
       "\n",
       "                                                   Liked  \\\n",
       "0                            Super price/quality  ratio.   \n",
       "1                                 Clean and comfortable.   \n",
       "2                                    very clean and new.   \n",
       "3      We loved everything! the rooms are designed wi...   \n",
       "4      By far the best hotel I've stayed in Plovdiv a...   \n",
       "...                                                  ...   \n",
       "21195  They were super friendly. Everything was perfect.   \n",
       "21196              A very helpful staff. Extremely kind.   \n",
       "21198                                                      \n",
       "21199  The friendliness of the staff, the size of the...   \n",
       "21200  Very good hotel with attentive staff. Very con...   \n",
       "\n",
       "                                                Disliked  Score  \\\n",
       "0                                                           4.0   \n",
       "1                                                           3.0   \n",
       "2                                                           4.0   \n",
       "3                                                           4.0   \n",
       "4      Really nothing. Just one small remark - croiss...    4.0   \n",
       "...                                                  ...    ...   \n",
       "21195            They can diversify an idea of breakfast    4.0   \n",
       "21196                                                       4.0   \n",
       "21198                             Bathroom with bathtub.    1.0   \n",
       "21199  The hotel is a 10-minute walk from the center ...    2.0   \n",
       "21200  The location is not so close to the city cente...    2.0   \n",
       "\n",
       "                                        Combined comment  \n",
       "0                           Super price/quality  ratio.   \n",
       "1                                Clean and comfortable.   \n",
       "2                                   very clean and new.   \n",
       "3      We loved everything! the rooms are designed wi...  \n",
       "4      By far the best hotel I've stayed in Plovdiv a...  \n",
       "...                                                  ...  \n",
       "21195  They were super friendly. Everything was perfe...  \n",
       "21196             A very helpful staff. Extremely kind.   \n",
       "21198                             Bathroom with bathtub.  \n",
       "21199  The friendliness of the staff, the size of the...  \n",
       "21200  Very good hotel with attentive staff. Very con...  \n",
       "\n",
       "[11772 rows x 5 columns]"
      ]
     },
     "execution_count": 61,
     "metadata": {},
     "output_type": "execute_result"
    }
   ],
   "source": [
    "df_max = df[df['Score'] >6]\n",
    "df_max['Score'] = df_max['Score'] - 6\n",
    "df_max"
   ]
  },
  {
   "cell_type": "code",
   "execution_count": 45,
   "metadata": {},
   "outputs": [],
   "source": [
    "import numpy as np"
   ]
  },
  {
   "cell_type": "code",
   "execution_count": 46,
   "metadata": {},
   "outputs": [],
   "source": [
    "from nltk.tokenize import TweetTokenizer\n",
    "from sklearn.feature_extraction.text import TfidfVectorizer\n",
    "tokenizer = TweetTokenizer()"
   ]
  },
  {
   "cell_type": "code",
   "execution_count": 47,
   "metadata": {},
   "outputs": [],
   "source": [
    "# imports\n",
    "import numpy as np\n",
    "import pandas as pd\n",
    "import os\n",
    "import seaborn as sns\n",
    "import matplotlib.pyplot as plt\n",
    "%matplotlib inline"
   ]
  },
  {
   "cell_type": "code",
   "execution_count": 62,
   "metadata": {},
   "outputs": [],
   "source": [
    "from sklearn.model_selection import train_test_split\n",
    "\n",
    "train, test = train_test_split(df_max, test_size=0.2)"
   ]
  },
  {
   "cell_type": "code",
   "execution_count": 63,
   "metadata": {},
   "outputs": [
    {
     "data": {
      "text/html": [
       "<div>\n",
       "<style scoped>\n",
       "    .dataframe tbody tr th:only-of-type {\n",
       "        vertical-align: middle;\n",
       "    }\n",
       "\n",
       "    .dataframe tbody tr th {\n",
       "        vertical-align: top;\n",
       "    }\n",
       "\n",
       "    .dataframe thead th {\n",
       "        text-align: right;\n",
       "    }\n",
       "</style>\n",
       "<table border=\"1\" class=\"dataframe\">\n",
       "  <thead>\n",
       "    <tr style=\"text-align: right;\">\n",
       "      <th></th>\n",
       "      <th>Hotel</th>\n",
       "      <th>Liked</th>\n",
       "      <th>Disliked</th>\n",
       "      <th>Score</th>\n",
       "      <th>Combined comment</th>\n",
       "    </tr>\n",
       "  </thead>\n",
       "  <tbody>\n",
       "    <tr>\n",
       "      <td>14320</td>\n",
       "      <td>Capital City Center Apart Residence</td>\n",
       "      <td>The apartment is large and spacious in a nice ...</td>\n",
       "      <td>Breakfast may be available until later, especi...</td>\n",
       "      <td>3.0</td>\n",
       "      <td>The apartment is large and spacious in a nice ...</td>\n",
       "    </tr>\n",
       "    <tr>\n",
       "      <td>19190</td>\n",
       "      <td>Hotel Aqualand</td>\n",
       "      <td>Great large outdoor water park, hotel discount...</td>\n",
       "      <td>An electric kettle and mugs could be in the room.</td>\n",
       "      <td>2.0</td>\n",
       "      <td>Great large outdoor water park, hotel discount...</td>\n",
       "    </tr>\n",
       "    <tr>\n",
       "      <td>7603</td>\n",
       "      <td>Domus Apartments City Center</td>\n",
       "      <td>The flat had everything we needed. It is part ...</td>\n",
       "      <td>Nothing to mention.</td>\n",
       "      <td>4.0</td>\n",
       "      <td>The flat had everything we needed. It is part ...</td>\n",
       "    </tr>\n",
       "    <tr>\n",
       "      <td>15256</td>\n",
       "      <td>Hotel Leipzig</td>\n",
       "      <td>A great location nearby the mall. Many restaur...</td>\n",
       "      <td>There were few couple of minutes blackouts dur...</td>\n",
       "      <td>2.0</td>\n",
       "      <td>A great location nearby the mall. Many restaur...</td>\n",
       "    </tr>\n",
       "    <tr>\n",
       "      <td>5473</td>\n",
       "      <td>Domus Apartments Grand</td>\n",
       "      <td></td>\n",
       "      <td>.“Great place to stay, we felt really good in ...</td>\n",
       "      <td>4.0</td>\n",
       "      <td>.“Great place to stay, we felt really good in...</td>\n",
       "    </tr>\n",
       "    <tr>\n",
       "      <td>...</td>\n",
       "      <td>...</td>\n",
       "      <td>...</td>\n",
       "      <td>...</td>\n",
       "      <td>...</td>\n",
       "      <td>...</td>\n",
       "    </tr>\n",
       "    <tr>\n",
       "      <td>19090</td>\n",
       "      <td>Kendros Hotel</td>\n",
       "      <td></td>\n",
       "      <td>.“Cordialità e gentilezza dello staff ottimo d...</td>\n",
       "      <td>4.0</td>\n",
       "      <td>.“Cordialità e gentilezza dello staff ottimo ...</td>\n",
       "    </tr>\n",
       "    <tr>\n",
       "      <td>13436</td>\n",
       "      <td>Old Plovdiv House in Kapana Area</td>\n",
       "      <td>The location. The apartments have everything y...</td>\n",
       "      <td>There must be alternative heating, the air con...</td>\n",
       "      <td>2.0</td>\n",
       "      <td>The location. The apartments have everything y...</td>\n",
       "    </tr>\n",
       "    <tr>\n",
       "      <td>14544</td>\n",
       "      <td>Hotel Urban</td>\n",
       "      <td>A good hotel for a very reasonable price. Clea...</td>\n",
       "      <td></td>\n",
       "      <td>2.0</td>\n",
       "      <td>A good hotel for a very reasonable price. Clea...</td>\n",
       "    </tr>\n",
       "    <tr>\n",
       "      <td>164</td>\n",
       "      <td>Hotel Jägerhof</td>\n",
       "      <td>Everything was great. The apartment, the servi...</td>\n",
       "      <td>There was nothing we didn't like.</td>\n",
       "      <td>4.0</td>\n",
       "      <td>Everything was great. The apartment, the servi...</td>\n",
       "    </tr>\n",
       "    <tr>\n",
       "      <td>12969</td>\n",
       "      <td>Hotel39</td>\n",
       "      <td>It was a very good hotel, very clean. Great se...</td>\n",
       "      <td>No one at the desk in the evening.</td>\n",
       "      <td>3.0</td>\n",
       "      <td>It was a very good hotel, very clean. Great se...</td>\n",
       "    </tr>\n",
       "  </tbody>\n",
       "</table>\n",
       "<p>9417 rows × 5 columns</p>\n",
       "</div>"
      ],
      "text/plain": [
       "                                     Hotel  \\\n",
       "14320  Capital City Center Apart Residence   \n",
       "19190                       Hotel Aqualand   \n",
       "7603          Domus Apartments City Center   \n",
       "15256                        Hotel Leipzig   \n",
       "5473                Domus Apartments Grand   \n",
       "...                                    ...   \n",
       "19090                        Kendros Hotel   \n",
       "13436     Old Plovdiv House in Kapana Area   \n",
       "14544                          Hotel Urban   \n",
       "164                         Hotel Jägerhof   \n",
       "12969                              Hotel39   \n",
       "\n",
       "                                                   Liked  \\\n",
       "14320  The apartment is large and spacious in a nice ...   \n",
       "19190  Great large outdoor water park, hotel discount...   \n",
       "7603   The flat had everything we needed. It is part ...   \n",
       "15256  A great location nearby the mall. Many restaur...   \n",
       "5473                                                       \n",
       "...                                                  ...   \n",
       "19090                                                      \n",
       "13436  The location. The apartments have everything y...   \n",
       "14544  A good hotel for a very reasonable price. Clea...   \n",
       "164    Everything was great. The apartment, the servi...   \n",
       "12969  It was a very good hotel, very clean. Great se...   \n",
       "\n",
       "                                                Disliked  Score  \\\n",
       "14320  Breakfast may be available until later, especi...    3.0   \n",
       "19190  An electric kettle and mugs could be in the room.    2.0   \n",
       "7603                                 Nothing to mention.    4.0   \n",
       "15256  There were few couple of minutes blackouts dur...    2.0   \n",
       "5473   .“Great place to stay, we felt really good in ...    4.0   \n",
       "...                                                  ...    ...   \n",
       "19090  .“Cordialità e gentilezza dello staff ottimo d...    4.0   \n",
       "13436  There must be alternative heating, the air con...    2.0   \n",
       "14544                                                       2.0   \n",
       "164                    There was nothing we didn't like.    4.0   \n",
       "12969                 No one at the desk in the evening.    3.0   \n",
       "\n",
       "                                        Combined comment  \n",
       "14320  The apartment is large and spacious in a nice ...  \n",
       "19190  Great large outdoor water park, hotel discount...  \n",
       "7603   The flat had everything we needed. It is part ...  \n",
       "15256  A great location nearby the mall. Many restaur...  \n",
       "5473    .“Great place to stay, we felt really good in...  \n",
       "...                                                  ...  \n",
       "19090   .“Cordialità e gentilezza dello staff ottimo ...  \n",
       "13436  The location. The apartments have everything y...  \n",
       "14544  A good hotel for a very reasonable price. Clea...  \n",
       "164    Everything was great. The apartment, the servi...  \n",
       "12969  It was a very good hotel, very clean. Great se...  \n",
       "\n",
       "[9417 rows x 5 columns]"
      ]
     },
     "execution_count": 63,
     "metadata": {},
     "output_type": "execute_result"
    }
   ],
   "source": [
    "train"
   ]
  },
  {
   "cell_type": "code",
   "execution_count": 50,
   "metadata": {},
   "outputs": [
    {
     "data": {
      "text/html": [
       "<div>\n",
       "<style scoped>\n",
       "    .dataframe tbody tr th:only-of-type {\n",
       "        vertical-align: middle;\n",
       "    }\n",
       "\n",
       "    .dataframe tbody tr th {\n",
       "        vertical-align: top;\n",
       "    }\n",
       "\n",
       "    .dataframe thead th {\n",
       "        text-align: right;\n",
       "    }\n",
       "</style>\n",
       "<table border=\"1\" class=\"dataframe\">\n",
       "  <thead>\n",
       "    <tr style=\"text-align: right;\">\n",
       "      <th></th>\n",
       "      <th>Hotel</th>\n",
       "      <th>Liked</th>\n",
       "      <th>Disliked</th>\n",
       "      <th>Score</th>\n",
       "      <th>Combined comment</th>\n",
       "    </tr>\n",
       "  </thead>\n",
       "  <tbody>\n",
       "    <tr>\n",
       "      <td>0</td>\n",
       "      <td>Hotel Jägerhof</td>\n",
       "      <td>Super price/quality  ratio.</td>\n",
       "      <td></td>\n",
       "      <td>10.0</td>\n",
       "      <td>Super price/quality  ratio.</td>\n",
       "    </tr>\n",
       "    <tr>\n",
       "      <td>1</td>\n",
       "      <td>Hotel Jägerhof</td>\n",
       "      <td>Clean and comfortable.</td>\n",
       "      <td></td>\n",
       "      <td>9.0</td>\n",
       "      <td>Clean and comfortable.</td>\n",
       "    </tr>\n",
       "    <tr>\n",
       "      <td>2</td>\n",
       "      <td>Hotel Jägerhof</td>\n",
       "      <td>very clean and new.</td>\n",
       "      <td></td>\n",
       "      <td>10.0</td>\n",
       "      <td>very clean and new.</td>\n",
       "    </tr>\n",
       "    <tr>\n",
       "      <td>3</td>\n",
       "      <td>Hotel Jägerhof</td>\n",
       "      <td>We loved everything! the rooms are designed wi...</td>\n",
       "      <td></td>\n",
       "      <td>10.0</td>\n",
       "      <td>We loved everything! the rooms are designed wi...</td>\n",
       "    </tr>\n",
       "    <tr>\n",
       "      <td>4</td>\n",
       "      <td>Hotel Jägerhof</td>\n",
       "      <td>By far the best hotel I've stayed in Plovdiv a...</td>\n",
       "      <td>Really nothing. Just one small remark - croiss...</td>\n",
       "      <td>10.0</td>\n",
       "      <td>By far the best hotel I've stayed in Plovdiv a...</td>\n",
       "    </tr>\n",
       "    <tr>\n",
       "      <td>...</td>\n",
       "      <td>...</td>\n",
       "      <td>...</td>\n",
       "      <td>...</td>\n",
       "      <td>...</td>\n",
       "      <td>...</td>\n",
       "    </tr>\n",
       "    <tr>\n",
       "      <td>21196</td>\n",
       "      <td>Business Hotel Plovdiv</td>\n",
       "      <td>A very helpful staff. Extremely kind.</td>\n",
       "      <td></td>\n",
       "      <td>10.0</td>\n",
       "      <td>A very helpful staff. Extremely kind.</td>\n",
       "    </tr>\n",
       "    <tr>\n",
       "      <td>21197</td>\n",
       "      <td>Business Hotel Plovdiv</td>\n",
       "      <td>Friendly receptionist service, free parking cl...</td>\n",
       "      <td></td>\n",
       "      <td>6.0</td>\n",
       "      <td>Friendly receptionist service, free parking cl...</td>\n",
       "    </tr>\n",
       "    <tr>\n",
       "      <td>21198</td>\n",
       "      <td>Business Hotel Plovdiv</td>\n",
       "      <td></td>\n",
       "      <td>Bathroom with bathtub.</td>\n",
       "      <td>7.0</td>\n",
       "      <td>Bathroom with bathtub.</td>\n",
       "    </tr>\n",
       "    <tr>\n",
       "      <td>21199</td>\n",
       "      <td>Business Hotel Plovdiv</td>\n",
       "      <td>The friendliness of the staff, the size of the...</td>\n",
       "      <td>The hotel is a 10-minute walk from the center ...</td>\n",
       "      <td>8.0</td>\n",
       "      <td>The friendliness of the staff, the size of the...</td>\n",
       "    </tr>\n",
       "    <tr>\n",
       "      <td>21200</td>\n",
       "      <td>Business Hotel Plovdiv</td>\n",
       "      <td>Very good hotel with attentive staff. Very con...</td>\n",
       "      <td>The location is not so close to the city cente...</td>\n",
       "      <td>8.0</td>\n",
       "      <td>Very good hotel with attentive staff. Very con...</td>\n",
       "    </tr>\n",
       "  </tbody>\n",
       "</table>\n",
       "<p>12792 rows × 5 columns</p>\n",
       "</div>"
      ],
      "text/plain": [
       "                        Hotel  \\\n",
       "0              Hotel Jägerhof   \n",
       "1              Hotel Jägerhof   \n",
       "2              Hotel Jägerhof   \n",
       "3              Hotel Jägerhof   \n",
       "4              Hotel Jägerhof   \n",
       "...                       ...   \n",
       "21196  Business Hotel Plovdiv   \n",
       "21197  Business Hotel Plovdiv   \n",
       "21198  Business Hotel Plovdiv   \n",
       "21199  Business Hotel Plovdiv   \n",
       "21200  Business Hotel Plovdiv   \n",
       "\n",
       "                                                   Liked  \\\n",
       "0                            Super price/quality  ratio.   \n",
       "1                                 Clean and comfortable.   \n",
       "2                                    very clean and new.   \n",
       "3      We loved everything! the rooms are designed wi...   \n",
       "4      By far the best hotel I've stayed in Plovdiv a...   \n",
       "...                                                  ...   \n",
       "21196              A very helpful staff. Extremely kind.   \n",
       "21197  Friendly receptionist service, free parking cl...   \n",
       "21198                                                      \n",
       "21199  The friendliness of the staff, the size of the...   \n",
       "21200  Very good hotel with attentive staff. Very con...   \n",
       "\n",
       "                                                Disliked  Score  \\\n",
       "0                                                          10.0   \n",
       "1                                                           9.0   \n",
       "2                                                          10.0   \n",
       "3                                                          10.0   \n",
       "4      Really nothing. Just one small remark - croiss...   10.0   \n",
       "...                                                  ...    ...   \n",
       "21196                                                      10.0   \n",
       "21197                                                       6.0   \n",
       "21198                             Bathroom with bathtub.    7.0   \n",
       "21199  The hotel is a 10-minute walk from the center ...    8.0   \n",
       "21200  The location is not so close to the city cente...    8.0   \n",
       "\n",
       "                                        Combined comment  \n",
       "0                           Super price/quality  ratio.   \n",
       "1                                Clean and comfortable.   \n",
       "2                                   very clean and new.   \n",
       "3      We loved everything! the rooms are designed wi...  \n",
       "4      By far the best hotel I've stayed in Plovdiv a...  \n",
       "...                                                  ...  \n",
       "21196             A very helpful staff. Extremely kind.   \n",
       "21197  Friendly receptionist service, free parking cl...  \n",
       "21198                             Bathroom with bathtub.  \n",
       "21199  The friendliness of the staff, the size of the...  \n",
       "21200  Very good hotel with attentive staff. Very con...  \n",
       "\n",
       "[12792 rows x 5 columns]"
      ]
     },
     "execution_count": 50,
     "metadata": {},
     "output_type": "execute_result"
    }
   ],
   "source": [
    "df"
   ]
  },
  {
   "cell_type": "code",
   "execution_count": 64,
   "metadata": {},
   "outputs": [],
   "source": [
    "vectorizer = TfidfVectorizer(ngram_range=(1, 3), tokenizer=tokenizer.tokenize)\n",
    "full_text = list(train['Combined comment'].values) + list(test['Combined comment'].values)\n",
    "vectorizer.fit(full_text)\n",
    "train_vectorized = vectorizer.transform(train['Combined comment'])\n",
    "test_vectorized = vectorizer.transform(test['Combined comment'])"
   ]
  },
  {
   "cell_type": "code",
   "execution_count": 86,
   "metadata": {},
   "outputs": [
    {
     "data": {
      "text/plain": [
       "9417"
      ]
     },
     "execution_count": 86,
     "metadata": {},
     "output_type": "execute_result"
    }
   ],
   "source": [
    "len(train)"
   ]
  },
  {
   "cell_type": "code",
   "execution_count": 85,
   "metadata": {},
   "outputs": [
    {
     "data": {
      "text/plain": [
       "<9417x321830 sparse matrix of type '<class 'numpy.float64'>'\n",
       "\twith 988526 stored elements in Compressed Sparse Row format>"
      ]
     },
     "execution_count": 85,
     "metadata": {},
     "output_type": "execute_result"
    }
   ],
   "source": [
    "vectorizer.transform(train['Combined comment'])"
   ]
  },
  {
   "cell_type": "code",
   "execution_count": 65,
   "metadata": {},
   "outputs": [],
   "source": [
    "y = train['Score']\n"
   ]
  },
  {
   "cell_type": "code",
   "execution_count": 66,
   "metadata": {},
   "outputs": [],
   "source": [
    "x_train , x_val, y_train , y_val = train_test_split(train_vectorized,y,test_size = 0.2)"
   ]
  },
  {
   "cell_type": "code",
   "execution_count": 67,
   "metadata": {},
   "outputs": [],
   "source": [
    "from sklearn.linear_model import LogisticRegression\n",
    "from sklearn.svm import LinearSVC\n",
    "from sklearn.ensemble import RandomForestClassifier\n",
    "from sklearn.ensemble import VotingClassifier\n",
    "from sklearn.multiclass import OneVsRestClassifier"
   ]
  },
  {
   "cell_type": "code",
   "execution_count": 68,
   "metadata": {},
   "outputs": [],
   "source": [
    "from sklearn.metrics import classification_report\n",
    "from sklearn.metrics import accuracy_score"
   ]
  },
  {
   "cell_type": "code",
   "execution_count": 69,
   "metadata": {},
   "outputs": [
    {
     "name": "stderr",
     "output_type": "stream",
     "text": [
      "C:\\Users\\super\\Anaconda3\\lib\\site-packages\\sklearn\\linear_model\\logistic.py:432: FutureWarning: Default solver will be changed to 'lbfgs' in 0.22. Specify a solver to silence this warning.\n",
      "  FutureWarning)\n"
     ]
    },
    {
     "name": "stdout",
     "output_type": "stream",
     "text": [
      "              precision    recall  f1-score   support\n",
      "\n",
      "         1.0       0.00      0.00      0.00         0\n",
      "         2.0       0.05      0.31      0.09        51\n",
      "         3.0       0.03      0.22      0.05        50\n",
      "         4.0       0.98      0.57      0.72      1783\n",
      "\n",
      "    accuracy                           0.55      1884\n",
      "   macro avg       0.27      0.28      0.21      1884\n",
      "weighted avg       0.93      0.55      0.68      1884\n",
      "\n",
      "0.5520169851380042\n"
     ]
    },
    {
     "name": "stderr",
     "output_type": "stream",
     "text": [
      "C:\\Users\\super\\Anaconda3\\lib\\site-packages\\sklearn\\metrics\\classification.py:1439: UndefinedMetricWarning: Recall and F-score are ill-defined and being set to 0.0 in labels with no true samples.\n",
      "  'recall', 'true', average, warn_for)\n"
     ]
    }
   ],
   "source": [
    "lr = LogisticRegression()\n",
    "ovr = OneVsRestClassifier(lr)\n",
    "ovr.fit(x_train,y_train)\n",
    "print(classification_report( ovr.predict(x_val) , y_val))\n",
    "print(accuracy_score( ovr.predict(x_val) , y_val ))"
   ]
  },
  {
   "cell_type": "code",
   "execution_count": 60,
   "metadata": {},
   "outputs": [
    {
     "data": {
      "text/plain": [
       "10.0    5252\n",
       "9.0     2075\n",
       "8.0     1461\n",
       "7.0      615\n",
       "6.0      295\n",
       "5.0      253\n",
       "4.0      133\n",
       "3.0       69\n",
       "1.0       48\n",
       "2.0       32\n",
       "Name: Score, dtype: int64"
      ]
     },
     "execution_count": 60,
     "metadata": {},
     "output_type": "execute_result"
    }
   ],
   "source": [
    "train['Score'].value_counts()"
   ]
  },
  {
   "cell_type": "code",
   "execution_count": 59,
   "metadata": {},
   "outputs": [
    {
     "data": {
      "text/plain": [
       "10.0    1275\n",
       "9.0      556\n",
       "8.0      368\n",
       "7.0      170\n",
       "6.0       74\n",
       "5.0       42\n",
       "4.0       26\n",
       "1.0       22\n",
       "3.0       14\n",
       "2.0       12\n",
       "Name: Score, dtype: int64"
      ]
     },
     "execution_count": 59,
     "metadata": {},
     "output_type": "execute_result"
    }
   ],
   "source": [
    "test['Score'].value_counts()"
   ]
  },
  {
   "cell_type": "code",
   "execution_count": 70,
   "metadata": {},
   "outputs": [
    {
     "name": "stdout",
     "output_type": "stream",
     "text": [
      "              precision    recall  f1-score   support\n",
      "\n",
      "         1.0       0.01      0.12      0.02        17\n",
      "         2.0       0.19      0.37      0.25       164\n",
      "         3.0       0.13      0.25      0.17       200\n",
      "         4.0       0.91      0.62      0.74      1503\n",
      "\n",
      "    accuracy                           0.56      1884\n",
      "   macro avg       0.31      0.34      0.30      1884\n",
      "weighted avg       0.75      0.56      0.63      1884\n",
      "\n",
      "0.5552016985138004\n"
     ]
    }
   ],
   "source": [
    "svm = LinearSVC()\n",
    "svm.fit(x_train,y_train)\n",
    "print(classification_report( svm.predict(x_val) , y_val))\n",
    "print(accuracy_score( svm.predict(x_val) , y_val ))"
   ]
  },
  {
   "cell_type": "code",
   "execution_count": 71,
   "metadata": {},
   "outputs": [
    {
     "name": "stderr",
     "output_type": "stream",
     "text": [
      "C:\\Users\\super\\Anaconda3\\lib\\site-packages\\sklearn\\linear_model\\logistic.py:432: FutureWarning: Default solver will be changed to 'lbfgs' in 0.22. Specify a solver to silence this warning.\n",
      "  FutureWarning)\n"
     ]
    },
    {
     "name": "stdout",
     "output_type": "stream",
     "text": [
      "              precision    recall  f1-score   support\n",
      "\n",
      "         1.0       0.01      0.12      0.02        17\n",
      "         2.0       0.20      0.36      0.26       173\n",
      "         3.0       0.12      0.25      0.16       194\n",
      "         4.0       0.90      0.62      0.74      1500\n",
      "\n",
      "    accuracy                           0.56      1884\n",
      "   macro avg       0.31      0.34      0.30      1884\n",
      "weighted avg       0.75      0.56      0.63      1884\n",
      "\n",
      "0.5552016985138004\n"
     ]
    }
   ],
   "source": [
    "estimators = [ ('svm',svm) , ('ovr' , ovr) ]\n",
    "clf = VotingClassifier(estimators , voting='hard')\n",
    "clf.fit(x_train,y_train)\n",
    "print(classification_report( clf.predict(x_val) , y_val))\n",
    "print(accuracy_score( clf.predict(x_val) , y_val ))"
   ]
  },
  {
   "cell_type": "code",
   "execution_count": 72,
   "metadata": {},
   "outputs": [
    {
     "data": {
      "text/plain": [
       "array([[0., 0., 0., 1., 0.],\n",
       "       [0., 0., 1., 0., 0.],\n",
       "       [0., 0., 0., 0., 1.],\n",
       "       ...,\n",
       "       [0., 0., 1., 0., 0.],\n",
       "       [0., 0., 0., 0., 1.],\n",
       "       [0., 0., 0., 1., 0.]], dtype=float32)"
      ]
     },
     "execution_count": 72,
     "metadata": {},
     "output_type": "execute_result"
    }
   ],
   "source": [
    "from tensorflow.keras.utils import to_categorical\n",
    "target=train.Score.values\n",
    "y=to_categorical(target)\n",
    "y"
   ]
  },
  {
   "cell_type": "code",
   "execution_count": 73,
   "metadata": {},
   "outputs": [],
   "source": [
    "max_features = 13000\n",
    "max_words = 50\n",
    "batch_size = 128\n",
    "epochs = 3\n",
    "num_classes=5"
   ]
  },
  {
   "cell_type": "code",
   "execution_count": 74,
   "metadata": {},
   "outputs": [],
   "source": [
    "X_train , X_val , Y_train , Y_val = train_test_split(train['Combined comment'],y,test_size = 0.20)\n"
   ]
  },
  {
   "cell_type": "code",
   "execution_count": 75,
   "metadata": {},
   "outputs": [],
   "source": [
    "from tensorflow.keras.preprocessing.text import Tokenizer\n",
    "from tensorflow.keras.preprocessing.sequence import pad_sequences\n",
    "from tensorflow.keras.models import Sequential\n",
    "from tensorflow.keras.layers import Dense,GRU,LSTM,Embedding\n",
    "from tensorflow.keras.optimizers import Adam\n",
    "from tensorflow.keras.layers import SpatialDropout1D,Dropout,Bidirectional,Conv1D,GlobalMaxPooling1D,MaxPooling1D,Flatten\n",
    "from tensorflow.keras.callbacks import ModelCheckpoint, TensorBoard, Callback, EarlyStopping"
   ]
  },
  {
   "cell_type": "code",
   "execution_count": 76,
   "metadata": {},
   "outputs": [],
   "source": [
    "tokenizer = Tokenizer(num_words=max_features)\n",
    "tokenizer.fit_on_texts(list(X_train))\n",
    "X_train = tokenizer.texts_to_sequences(X_train)\n",
    "X_val = tokenizer.texts_to_sequences(X_val)"
   ]
  },
  {
   "cell_type": "code",
   "execution_count": 77,
   "metadata": {},
   "outputs": [],
   "source": [
    "X_test = tokenizer.texts_to_sequences(test['Combined comment'])\n",
    "X_test =pad_sequences(X_test, maxlen=max_words)"
   ]
  },
  {
   "cell_type": "code",
   "execution_count": 78,
   "metadata": {},
   "outputs": [],
   "source": [
    "X_train =pad_sequences(X_train, maxlen=max_words)\n",
    "X_val = pad_sequences(X_val, maxlen=max_words)\n",
    "X_test =pad_sequences(X_test, maxlen=max_words)"
   ]
  },
  {
   "cell_type": "code",
   "execution_count": 79,
   "metadata": {},
   "outputs": [
    {
     "data": {
      "text/plain": [
       "4"
      ]
     },
     "execution_count": 79,
     "metadata": {},
     "output_type": "execute_result"
    }
   ],
   "source": [
    "len(train['Score'].unique())"
   ]
  },
  {
   "cell_type": "code",
   "execution_count": 82,
   "metadata": {},
   "outputs": [
    {
     "name": "stdout",
     "output_type": "stream",
     "text": [
      "Model: \"sequential_1\"\n",
      "_________________________________________________________________\n",
      "Layer (type)                 Output Shape              Param #   \n",
      "=================================================================\n",
      "embedding_1 (Embedding)      (None, None, 100)         1300000   \n",
      "_________________________________________________________________\n",
      "gru_2 (GRU)                  (None, None, 64)          31872     \n",
      "_________________________________________________________________\n",
      "gru_3 (GRU)                  (None, 32)                9408      \n",
      "_________________________________________________________________\n",
      "dense_1 (Dense)              (None, 5)                 165       \n",
      "=================================================================\n",
      "Total params: 1,341,445\n",
      "Trainable params: 1,341,445\n",
      "Non-trainable params: 0\n",
      "_________________________________________________________________\n"
     ]
    }
   ],
   "source": [
    "model_GRU=Sequential()\n",
    "model_GRU.add(Embedding(max_features,100,mask_zero=True))\n",
    "model_GRU.add(GRU(64,dropout=0.4,return_sequences=True))\n",
    "model_GRU.add(GRU(32,dropout=0.5,return_sequences=False))\n",
    "model_GRU.add(Dense(5,activation='softmax'))\n",
    "model_GRU.compile(loss='categorical_crossentropy',optimizer=Adam(lr = 0.001),metrics=['accuracy'])\n",
    "model_GRU.summary()"
   ]
  },
  {
   "cell_type": "code",
   "execution_count": 83,
   "metadata": {},
   "outputs": [
    {
     "name": "stdout",
     "output_type": "stream",
     "text": [
      "Train on 7533 samples, validate on 1884 samples\n",
      "Epoch 1/3\n",
      "7533/7533 [==============================] - 46s 6ms/sample - loss: 1.2574 - accuracy: 0.5380 - val_loss: 1.0748 - val_accuracy: 0.5701\n",
      "Epoch 2/3\n",
      "7533/7533 [==============================] - 20s 3ms/sample - loss: 1.0538 - accuracy: 0.5599 - val_loss: 1.0131 - val_accuracy: 0.5780\n",
      "Epoch 3/3\n",
      "7533/7533 [==============================] - 21s 3ms/sample - loss: 0.9623 - accuracy: 0.6105 - val_loss: 1.0080 - val_accuracy: 0.5685\n",
      "Wall time: 1min 27s\n"
     ]
    }
   ],
   "source": [
    "%%time\n",
    "history1=model_GRU.fit(X_train, Y_train, validation_data=(X_val, Y_val),epochs=epochs, batch_size=batch_size, verbose=1)"
   ]
  },
  {
   "cell_type": "code",
   "execution_count": 92,
   "metadata": {},
   "outputs": [
    {
     "name": "stdout",
     "output_type": "stream",
     "text": [
      "392/392 [==============================] - 3s 7ms/sample\n"
     ]
    },
    {
     "ename": "NameError",
     "evalue": "name 'sub' is not defined",
     "output_type": "error",
     "traceback": [
      "\u001b[1;31m---------------------------------------------------------------------------\u001b[0m",
      "\u001b[1;31mNameError\u001b[0m                                 Traceback (most recent call last)",
      "\u001b[1;32m<ipython-input-92-75bc25fad653>\u001b[0m in \u001b[0;36m<module>\u001b[1;34m\u001b[0m\n\u001b[0;32m      1\u001b[0m \u001b[0my_pred1\u001b[0m\u001b[1;33m=\u001b[0m\u001b[0mmodel_GRU\u001b[0m\u001b[1;33m.\u001b[0m\u001b[0mpredict_classes\u001b[0m\u001b[1;33m(\u001b[0m\u001b[0mX_test\u001b[0m\u001b[1;33m,\u001b[0m \u001b[0mverbose\u001b[0m\u001b[1;33m=\u001b[0m\u001b[1;36m1\u001b[0m\u001b[1;33m)\u001b[0m\u001b[1;33m\u001b[0m\u001b[1;33m\u001b[0m\u001b[0m\n\u001b[1;32m----> 2\u001b[1;33m \u001b[0msub\u001b[0m\u001b[1;33m.\u001b[0m\u001b[0mSentiment\u001b[0m\u001b[1;33m=\u001b[0m\u001b[0my_pred1\u001b[0m\u001b[1;33m\u001b[0m\u001b[1;33m\u001b[0m\u001b[0m\n\u001b[0m\u001b[0;32m      3\u001b[0m \u001b[0msub\u001b[0m\u001b[1;33m.\u001b[0m\u001b[0mto_csv\u001b[0m\u001b[1;33m(\u001b[0m\u001b[1;34m'sub1_GRU.csv'\u001b[0m\u001b[1;33m,\u001b[0m\u001b[0mindex\u001b[0m\u001b[1;33m=\u001b[0m\u001b[1;32mFalse\u001b[0m\u001b[1;33m)\u001b[0m\u001b[1;33m\u001b[0m\u001b[1;33m\u001b[0m\u001b[0m\n\u001b[0;32m      4\u001b[0m \u001b[0msub\u001b[0m\u001b[1;33m.\u001b[0m\u001b[0mhead\u001b[0m\u001b[1;33m(\u001b[0m\u001b[1;33m)\u001b[0m\u001b[1;33m\u001b[0m\u001b[1;33m\u001b[0m\u001b[0m\n",
      "\u001b[1;31mNameError\u001b[0m: name 'sub' is not defined"
     ]
    }
   ],
   "source": [
    "y_pred1=model_GRU.predict_classes(X_test, verbose=1)\n",
    "sub.Sentiment=y_pred1\n",
    "sub.to_csv('sub1_GRU.csv',index=False)\n",
    "sub.head()"
   ]
  },
  {
   "cell_type": "code",
   "execution_count": null,
   "metadata": {},
   "outputs": [],
   "source": []
  }
 ],
 "metadata": {
  "kernelspec": {
   "display_name": "Python 3",
   "language": "python",
   "name": "python3"
  },
  "language_info": {
   "codemirror_mode": {
    "name": "ipython",
    "version": 3
   },
   "file_extension": ".py",
   "mimetype": "text/x-python",
   "name": "python",
   "nbconvert_exporter": "python",
   "pygments_lexer": "ipython3",
   "version": "3.7.4"
  }
 },
 "nbformat": 4,
 "nbformat_minor": 2
}
